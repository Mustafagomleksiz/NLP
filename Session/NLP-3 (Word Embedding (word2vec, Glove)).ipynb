{
 "cells": [
  {
   "cell_type": "markdown",
   "metadata": {},
   "source": [
    "## Word_embedding"
   ]
  },
  {
   "cell_type": "markdown",
   "metadata": {},
   "source": [
    "## Word2Vec"
   ]
  },
  {
   "cell_type": "code",
   "execution_count": 1,
   "metadata": {},
   "outputs": [],
   "source": [
    "# pip install gensim"
   ]
  },
  {
   "cell_type": "code",
   "execution_count": 2,
   "metadata": {},
   "outputs": [],
   "source": [
    "import warnings\n",
    "warnings.filterwarnings(\"ignore\")\n",
    "\n",
    "from gensim.models import Word2Vec"
   ]
  },
  {
   "cell_type": "code",
   "execution_count": 3,
   "metadata": {},
   "outputs": [
    {
     "data": {
      "text/plain": [
       "'iran devlet televizyonu ülkedeki eyaletin sinde yapılan reformcuları protesto amaçlı yürüyüşlere milyonlarca kişinin katıldığını bildirdi \\ngösterilerde fitnecilere ölüm münafıklara ölüm abd ye ölüm ingiltere ye ölüm sloganları atıldı \\ndini lider ali hamaney ve cumhurbaşkanı mahmud ahmedinejad ı destekleyen iranlılar son olaylarda yeğeni öldürülen mir hüseyin musevi başta olmak üzere muhalefet liderlerini kınadılar \\nmusevi ye ölüm ve idam idam sloganları duyuldu \\nmuhalefet liderleri kaçtı mı aşure günü yaşanan çatışmalarda devlet kaynaklarına göre u terörist olmak üzere kişi ölmüştü \\nden fazla kişinin yaralandığı olaylar sırasında en az kişi tutuklanmıştı \\nöte yandan iran haber ajansı irna muhalif liderler mir hüseyin musevi ve mehdi kerrubi nin başkentten kaçarak ülkenin kuzeyine geçtiğini ileri sürdü ancak muhalefet iddiayı yalanladı \\nhamaney in bir dönem korumalığını yapan ve şu anda fransa da saklandığı söylenen bir kişinin muhalefete verdiği bilgilere göre münzevi yaşamı na rağmen '"
      ]
     },
     "execution_count": 3,
     "metadata": {},
     "output_type": "execute_result"
    }
   ],
   "source": [
    "import zipfile\n",
    "\n",
    "text = zipfile.ZipFile('newspaper.zip')\n",
    "text = text.read('newspaper.txt')\n",
    "text = text.decode('utf-8')\n",
    "\n",
    "text[:1000]\n",
    "# zipli dosyayı okumak için kullanabilirisniz"
   ]
  },
  {
   "cell_type": "code",
   "execution_count": 4,
   "metadata": {},
   "outputs": [],
   "source": [
    "#text = open('newspaper.txt', 'r', encoding='utf8')\n",
    "#text = text.read()\n",
    "#text[:1000]\n",
    "\n",
    "# dosyayı zip içerisinden çıkarsaydık. Bu formatı kullanacaktık."
   ]
  },
  {
   "cell_type": "code",
   "execution_count": 5,
   "metadata": {},
   "outputs": [
    {
     "name": "stdout",
     "output_type": "stream",
     "text": [
      "iran devlet televizyonu ülkedeki eyaletin sinde yapılan reformcuları protesto amaçlı yürüyüşlere milyonlarca kişinin katıldığını bildirdi \n",
      "gösterilerde fitnecilere ölüm münafıklara ölüm abd ye ölüm ingiltere ye ölüm sloganları atıldı \n",
      "dini lider ali hamaney ve cumhurbaşkanı mahmud ahmedinejad ı destekleyen iranlılar son olaylarda yeğeni öldürülen mir hüseyin musevi başta olmak üzere muhalefet liderlerini kınadılar \n",
      "musevi ye ölüm ve idam idam sloganları duyuldu \n",
      "muhalefet liderleri kaçtı mı aşure günü yaşanan çatışmalarda devlet kaynaklarına göre u terörist olmak üzere kişi ölmüştü \n",
      "den fazla kişinin yaralandığı olaylar sırasında en az kişi tutuklanmıştı \n",
      "öte yandan iran haber ajansı irna muhalif liderler mir hüseyin musevi ve mehdi kerrubi nin başkentten kaçarak ülkenin kuzeyine geçtiğini ileri sürdü ancak muhalefet iddiayı yalanladı \n",
      "hamaney in bir dönem korumalığını yapan ve şu anda fransa da saklandığı söylenen bir kişinin muhalefete verdiği bilgilere göre münzevi yaşamı na rağmen \n"
     ]
    }
   ],
   "source": [
    "print(text[:1000])"
   ]
  },
  {
   "cell_type": "code",
   "execution_count": 6,
   "metadata": {},
   "outputs": [
    {
     "data": {
      "text/plain": [
       "['iran devlet televizyonu ülkedeki eyaletin sinde yapılan reformcuları protesto amaçlı yürüyüşlere milyonlarca kişinin katıldığını bildirdi ',\n",
       " 'gösterilerde fitnecilere ölüm münafıklara ölüm abd ye ölüm ingiltere ye ölüm sloganları atıldı ',\n",
       " 'dini lider ali hamaney ve cumhurbaşkanı mahmud ahmedinejad ı destekleyen iranlılar son olaylarda yeğeni öldürülen mir hüseyin musevi başta olmak üzere muhalefet liderlerini kınadılar ',\n",
       " 'musevi ye ölüm ve idam idam sloganları duyuldu ',\n",
       " 'muhalefet liderleri kaçtı mı aşure günü yaşanan çatışmalarda devlet kaynaklarına göre u terörist olmak üzere kişi ölmüştü ',\n",
       " 'den fazla kişinin yaralandığı olaylar sırasında en az kişi tutuklanmıştı ',\n",
       " 'öte yandan iran haber ajansı irna muhalif liderler mir hüseyin musevi ve mehdi kerrubi nin başkentten kaçarak ülkenin kuzeyine geçtiğini ileri sürdü ancak muhalefet iddiayı yalanladı ',\n",
       " 'hamaney in bir dönem korumalığını yapan ve şu anda fransa da saklandığı söylenen bir kişinin muhalefete verdiği bilgilere göre münzevi yaşamı na rağmen dini liderin havyara karşı korkunç bir iştahı var ',\n",
       " 'baston ve at meraklısı hamaney aynı zamanda değerli mücevherlerle bezenmiş bastonların ve cins atların koleksiyonunu yapıyor ',\n",
       " 'hamaney in antika bastonlarının sayısı ']"
      ]
     },
     "execution_count": 6,
     "metadata": {},
     "output_type": "execute_result"
    }
   ],
   "source": [
    "list_sent = text.split('\\n')\n",
    "list_sent[:10]"
   ]
  },
  {
   "cell_type": "code",
   "execution_count": 7,
   "metadata": {},
   "outputs": [
    {
     "data": {
      "text/plain": [
       "['iran',\n",
       " 'devlet',\n",
       " 'televizyonu',\n",
       " 'ülkedeki',\n",
       " 'eyaletin',\n",
       " 'sinde',\n",
       " 'yapılan',\n",
       " 'reformcuları',\n",
       " 'protesto',\n",
       " 'amaçlı',\n",
       " 'yürüyüşlere',\n",
       " 'milyonlarca',\n",
       " 'kişinin',\n",
       " 'katıldığını',\n",
       " 'bildirdi']"
      ]
     },
     "execution_count": 7,
     "metadata": {},
     "output_type": "execute_result"
    }
   ],
   "source": [
    "list_sent[0].split()"
   ]
  },
  {
   "cell_type": "code",
   "execution_count": 8,
   "metadata": {},
   "outputs": [],
   "source": [
    "corpus = []\n",
    "\n",
    "for sent in list_sent:\n",
    "    corpus.append(sent.split())"
   ]
  },
  {
   "cell_type": "code",
   "execution_count": 9,
   "metadata": {},
   "outputs": [
    {
     "name": "stdout",
     "output_type": "stream",
     "text": [
      "[['iran', 'devlet', 'televizyonu', 'ülkedeki', 'eyaletin', 'sinde', 'yapılan', 'reformcuları', 'protesto', 'amaçlı', 'yürüyüşlere', 'milyonlarca', 'kişinin', 'katıldığını', 'bildirdi'], ['gösterilerde', 'fitnecilere', 'ölüm', 'münafıklara', 'ölüm', 'abd', 'ye', 'ölüm', 'ingiltere', 'ye', 'ölüm', 'sloganları', 'atıldı'], ['dini', 'lider', 'ali', 'hamaney', 've', 'cumhurbaşkanı', 'mahmud', 'ahmedinejad', 'ı', 'destekleyen', 'iranlılar', 'son', 'olaylarda', 'yeğeni', 'öldürülen', 'mir', 'hüseyin', 'musevi', 'başta', 'olmak', 'üzere', 'muhalefet', 'liderlerini', 'kınadılar'], ['musevi', 'ye', 'ölüm', 've', 'idam', 'idam', 'sloganları', 'duyuldu'], ['muhalefet', 'liderleri', 'kaçtı', 'mı', 'aşure', 'günü', 'yaşanan', 'çatışmalarda', 'devlet', 'kaynaklarına', 'göre', 'u', 'terörist', 'olmak', 'üzere', 'kişi', 'ölmüştü'], ['den', 'fazla', 'kişinin', 'yaralandığı', 'olaylar', 'sırasında', 'en', 'az', 'kişi', 'tutuklanmıştı'], ['öte', 'yandan', 'iran', 'haber', 'ajansı', 'irna', 'muhalif', 'liderler', 'mir', 'hüseyin', 'musevi', 've', 'mehdi', 'kerrubi', 'nin', 'başkentten', 'kaçarak', 'ülkenin', 'kuzeyine', 'geçtiğini', 'ileri', 'sürdü', 'ancak', 'muhalefet', 'iddiayı', 'yalanladı'], ['hamaney', 'in', 'bir', 'dönem', 'korumalığını', 'yapan', 've', 'şu', 'anda', 'fransa', 'da', 'saklandığı', 'söylenen', 'bir', 'kişinin', 'muhalefete', 'verdiği', 'bilgilere', 'göre', 'münzevi', 'yaşamı', 'na', 'rağmen', 'dini', 'liderin', 'havyara', 'karşı', 'korkunç', 'bir', 'iştahı', 'var'], ['baston', 've', 'at', 'meraklısı', 'hamaney', 'aynı', 'zamanda', 'değerli', 'mücevherlerle', 'bezenmiş', 'bastonların', 've', 'cins', 'atların', 'koleksiyonunu', 'yapıyor'], ['hamaney', 'in', 'antika', 'bastonlarının', 'sayısı']]\n"
     ]
    }
   ],
   "source": [
    "print(corpus[:10])"
   ]
  },
  {
   "cell_type": "code",
   "execution_count": 10,
   "metadata": {},
   "outputs": [],
   "source": [
    "model = Word2Vec(corpus, vector_size=100, window=5, min_count=5, sg=1)"
   ]
  },
  {
   "cell_type": "code",
   "execution_count": 11,
   "metadata": {},
   "outputs": [
    {
     "data": {
      "text/plain": [
       "array([ 0.10316256, -0.18719517, -0.31861264,  0.28280598,  0.49186233,\n",
       "       -0.15349717, -0.30591446,  0.7553158 , -0.16980489, -0.25784755,\n",
       "       -0.10780816, -0.2724642 , -0.06066779,  0.29125684, -0.22476424,\n",
       "        0.39745006,  0.4261046 , -0.3779945 ,  0.2975983 , -0.5278083 ,\n",
       "       -0.21069041,  0.31522062,  0.6349684 , -0.6914276 , -0.09868802,\n",
       "        0.09440831, -0.15946612,  0.02468267, -0.4042158 ,  0.672193  ,\n",
       "        0.49193352,  0.18550792, -0.22073855, -0.5606592 ,  0.22969721,\n",
       "       -0.02245069, -0.40945262, -0.1520093 ,  0.0222946 , -0.61796105,\n",
       "        0.6296865 , -0.13105325,  0.38752094, -0.13762684,  0.44095373,\n",
       "        0.21022141, -0.31873798, -0.04239311,  0.22024065, -0.03729116,\n",
       "        0.01932727, -0.11735579,  0.2247267 , -0.3158    , -0.03384141,\n",
       "       -0.3085152 ,  0.02103138,  0.08705053, -0.26621076, -0.69753915,\n",
       "        0.10264272,  0.03793106,  0.1051852 ,  0.23391579, -0.18275279,\n",
       "        0.07571235,  0.28153315,  0.00321515, -0.18058376, -0.12532406,\n",
       "       -0.13881452,  0.15865862,  0.33608547, -0.3578869 ,  0.29603392,\n",
       "        0.02791078,  0.05038404, -0.05058099, -0.10126224, -0.01612874,\n",
       "        0.7203158 , -0.8449998 ,  0.21370576,  0.49036914,  0.50547606,\n",
       "       -0.23431644,  0.27640915,  0.5297193 ,  0.5611976 ,  0.4829059 ,\n",
       "        0.69025075, -0.12167133,  0.49580523,  0.31691402,  0.28509727,\n",
       "       -0.14611645,  0.15471075, -0.10505982,  0.2221447 ,  0.20424266],\n",
       "      dtype=float32)"
      ]
     },
     "execution_count": 11,
     "metadata": {},
     "output_type": "execute_result"
    }
   ],
   "source": [
    "model.wv['ankara']"
   ]
  },
  {
   "cell_type": "code",
   "execution_count": 12,
   "metadata": {},
   "outputs": [
    {
     "data": {
      "text/plain": [
       "[('okuldaki', 0.7424584627151489),\n",
       " ('öğrenci', 0.7413446307182312),\n",
       " ('üniversite', 0.737149715423584),\n",
       " ('öğretmeni', 0.735550045967102),\n",
       " ('öğrenciyle', 0.725848913192749),\n",
       " ('başörtülü', 0.7120699286460876),\n",
       " ('lise', 0.710860013961792),\n",
       " ('öğrencisinin', 0.7083704471588135),\n",
       " ('erkek', 0.7076606750488281),\n",
       " ('öğretmenin', 0.7063742280006409)]"
      ]
     },
     "execution_count": 12,
     "metadata": {},
     "output_type": "execute_result"
    }
   ],
   "source": [
    "model.wv.most_similar('öğretmen')"
   ]
  },
  {
   "cell_type": "code",
   "execution_count": 13,
   "metadata": {},
   "outputs": [
    {
     "data": {
      "text/plain": [
       "[('çizgileri', 0.6881272792816162),\n",
       " ('sarı', 0.6661314964294434),\n",
       " ('turuncu', 0.6572490930557251),\n",
       " ('gömlekli', 0.6298011541366577),\n",
       " ('gömlekliler', 0.6228870153427124),\n",
       " ('ışıkta', 0.6223813891410828),\n",
       " ('renkte', 0.5963485836982727),\n",
       " ('halıda', 0.5960611701011658),\n",
       " ('bülten', 0.5952337384223938),\n",
       " ('çizgi', 0.5935124158859253)]"
      ]
     },
     "execution_count": 13,
     "metadata": {},
     "output_type": "execute_result"
    }
   ],
   "source": [
    "model.wv.most_similar('kırmızı')"
   ]
  },
  {
   "cell_type": "code",
   "execution_count": 14,
   "metadata": {},
   "outputs": [
    {
     "data": {
      "text/plain": [
       "[('evine', 0.807838499546051),\n",
       " ('dükkana', 0.7631725072860718),\n",
       " ('apartmana', 0.7546283006668091),\n",
       " ('hapishaneye', 0.7308386564254761),\n",
       " ('mağazaya', 0.7219714522361755),\n",
       " ('ofise', 0.7170488238334656),\n",
       " ('arabaya', 0.7151474952697754),\n",
       " ('arkadaşının', 0.7098710536956787),\n",
       " ('sinemaya', 0.7050576210021973),\n",
       " ('karakola', 0.7022648453712463)]"
      ]
     },
     "execution_count": 14,
     "metadata": {},
     "output_type": "execute_result"
    }
   ],
   "source": [
    "model.wv.most_similar('eve')"
   ]
  },
  {
   "cell_type": "code",
   "execution_count": 15,
   "metadata": {},
   "outputs": [
    {
     "data": {
      "text/plain": [
       "[('marmara', 0.8923729062080383),\n",
       " ('gemisine', 0.6755508780479431),\n",
       " ('baskınıyla', 0.6506831049919128),\n",
       " ('baskınına', 0.6427309513092041),\n",
       " ('baskınının', 0.6227439045906067),\n",
       " ('filosundaki', 0.6162469387054443),\n",
       " ('gemisindeki', 0.6125698685646057),\n",
       " ('filo', 0.6114217042922974),\n",
       " ('gemilere', 0.6094632744789124),\n",
       " ('baskınında', 0.6078909635543823)]"
      ]
     },
     "execution_count": 15,
     "metadata": {},
     "output_type": "execute_result"
    }
   ],
   "source": [
    "model.wv.most_similar('mavi')"
   ]
  },
  {
   "cell_type": "code",
   "execution_count": 16,
   "metadata": {},
   "outputs": [
    {
     "data": {
      "text/plain": [
       "[('eğitimciler', 0.6880959868431091),\n",
       " ('psikoloji', 0.6687736511230469),\n",
       " ('slaughter', 0.664482057094574),\n",
       " ('ebeveyn', 0.6510061025619507),\n",
       " ('çayır', 0.6501006484031677)]"
      ]
     },
     "execution_count": 16,
     "metadata": {},
     "output_type": "execute_result"
    }
   ],
   "source": [
    "model.wv.most_similar(positive=['öğrenme', 'doktor'], negative=['tedavi'], topn=5)"
   ]
  },
  {
   "cell_type": "code",
   "execution_count": 17,
   "metadata": {},
   "outputs": [
    {
     "data": {
      "text/plain": [
       "[('hollanda', 0.6339523792266846)]"
      ]
     },
     "execution_count": 17,
     "metadata": {},
     "output_type": "execute_result"
    }
   ],
   "source": [
    "model.wv.most_similar(positive=['ankara', 'belçika'], negative=['brüksel'], topn=1)"
   ]
  },
  {
   "cell_type": "code",
   "execution_count": 18,
   "metadata": {},
   "outputs": [],
   "source": [
    "model.save(\"word2vec.model\")"
   ]
  },
  {
   "cell_type": "code",
   "execution_count": 19,
   "metadata": {},
   "outputs": [],
   "source": [
    "model = Word2Vec.load(\"word2vec.model\")"
   ]
  },
  {
   "cell_type": "markdown",
   "metadata": {},
   "source": [
    "## Glove"
   ]
  },
  {
   "cell_type": "code",
   "execution_count": 20,
   "metadata": {},
   "outputs": [],
   "source": [
    "from gensim.models import KeyedVectors"
   ]
  },
  {
   "cell_type": "code",
   "execution_count": 21,
   "metadata": {},
   "outputs": [],
   "source": [
    "glove_model = 'glove.6B.100d.txt'\n",
    "model2 = KeyedVectors.load_word2vec_format(glove_model, no_header=True) #'glove.6B.100d.txt'"
   ]
  },
  {
   "cell_type": "code",
   "execution_count": 22,
   "metadata": {},
   "outputs": [
    {
     "data": {
      "text/plain": [
       "array([ 0.44374 ,  0.67311 , -0.51096 ,  0.20882 , -0.10662 ,  0.55098 ,\n",
       "       -0.035593,  0.25126 , -0.32789 ,  1.0762  , -0.49637 , -0.4298  ,\n",
       "        0.36764 ,  0.57894 , -0.25027 , -0.41021 ,  0.086998, -0.16843 ,\n",
       "       -0.85764 ,  1.0404  , -1.0314  ,  0.095147,  0.30729 ,  0.12348 ,\n",
       "        0.22745 , -0.52157 , -0.72478 , -1.0843  ,  0.035966,  0.62985 ,\n",
       "       -1.0991  ,  0.67161 ,  0.33797 ,  0.14551 , -0.90049 , -0.064415,\n",
       "       -0.75247 ,  0.21741 ,  0.51594 , -0.46291 , -0.77598 ,  0.40705 ,\n",
       "        0.1889  , -0.43402 ,  0.23202 , -0.081453, -0.3882  , -0.34444 ,\n",
       "        0.080225, -0.28274 , -0.38869 , -0.58152 , -0.25558 ,  1.0027  ,\n",
       "       -0.11114 , -1.5402  , -0.16761 , -0.26558 ,  0.9325  ,  0.069397,\n",
       "        0.96618 ,  0.15449 , -0.22905 , -0.1761  ,  0.13225 , -0.55741 ,\n",
       "        0.9234  , -0.04845 ,  0.50202 ,  1.0144  , -0.1256  ,  0.30486 ,\n",
       "        0.090808,  0.17642 , -0.23146 ,  0.68386 ,  0.37269 , -0.37316 ,\n",
       "       -0.025728, -1.0279  , -0.33142 ,  0.036028, -0.24925 , -1.4405  ,\n",
       "       -1.6267  ,  0.082284, -0.080153, -0.50802 ,  0.031885, -0.60546 ,\n",
       "        0.2908  ,  0.036842,  0.55328 ,  0.66784 , -0.42574 ,  0.53331 ,\n",
       "        0.053644, -0.66522 , -0.10012 , -0.17729 ], dtype=float32)"
      ]
     },
     "execution_count": 22,
     "metadata": {},
     "output_type": "execute_result"
    }
   ],
   "source": [
    "model2['teacher']"
   ]
  },
  {
   "cell_type": "code",
   "execution_count": 23,
   "metadata": {},
   "outputs": [
    {
     "data": {
      "text/plain": [
       "[('turkey', 0.7512096762657166),\n",
       " ('istanbul', 0.6787630319595337),\n",
       " ('turkish', 0.6690374612808228),\n",
       " ('damascus', 0.6372509002685547),\n",
       " ('tbilisi', 0.6322181820869446),\n",
       " ('erdogan', 0.6258037090301514),\n",
       " ('moscow', 0.6217041015625),\n",
       " ('brussels', 0.6181439161300659),\n",
       " ('skopje', 0.6164302825927734),\n",
       " ('cyprus', 0.6064029932022095)]"
      ]
     },
     "execution_count": 23,
     "metadata": {},
     "output_type": "execute_result"
    }
   ],
   "source": [
    "model2.most_similar('ankara')"
   ]
  },
  {
   "cell_type": "code",
   "execution_count": 24,
   "metadata": {},
   "outputs": [
    {
     "data": {
      "text/plain": [
       "[('student', 0.8083399534225464),\n",
       " ('school', 0.7545564770698547),\n",
       " ('teaching', 0.7521440386772156),\n",
       " ('taught', 0.741184651851654),\n",
       " ('teachers', 0.7291542887687683),\n",
       " ('graduate', 0.7134959697723389),\n",
       " ('instructor', 0.7077120542526245),\n",
       " ('students', 0.6828973889350891),\n",
       " ('teaches', 0.6552315354347229),\n",
       " ('education', 0.6528989672660828)]"
      ]
     },
     "execution_count": 24,
     "metadata": {},
     "output_type": "execute_result"
    }
   ],
   "source": [
    "model2.most_similar('teacher')"
   ]
  },
  {
   "cell_type": "code",
   "execution_count": 25,
   "metadata": {},
   "outputs": [
    {
     "data": {
      "text/plain": [
       "[('physician', 0.7673240303993225),\n",
       " ('nurse', 0.75215083360672),\n",
       " ('dr.', 0.7175194025039673),\n",
       " ('doctors', 0.7080884575843811),\n",
       " ('patient', 0.7074184417724609),\n",
       " ('medical', 0.6995993256568909),\n",
       " ('surgeon', 0.6905338764190674),\n",
       " ('hospital', 0.6900930404663086),\n",
       " ('psychiatrist', 0.658909797668457),\n",
       " ('dentist', 0.6447421312332153)]"
      ]
     },
     "execution_count": 25,
     "metadata": {},
     "output_type": "execute_result"
    }
   ],
   "source": [
    "model2.most_similar('doctor')"
   ]
  },
  {
   "cell_type": "code",
   "execution_count": 26,
   "metadata": {},
   "outputs": [
    {
     "data": {
      "text/plain": [
       "[('daughter', 0.8917792439460754)]"
      ]
     },
     "execution_count": 26,
     "metadata": {},
     "output_type": "execute_result"
    }
   ],
   "source": [
    "model2.most_similar(positive=['woman', 'brother'], negative=['man'], topn=1)"
   ]
  },
  {
   "cell_type": "code",
   "execution_count": 27,
   "metadata": {},
   "outputs": [
    {
     "data": {
      "text/plain": [
       "[('mother', 0.9024619460105896)]"
      ]
     },
     "execution_count": 27,
     "metadata": {},
     "output_type": "execute_result"
    }
   ],
   "source": [
    "model2.most_similar(positive=['woman', 'father'], negative=['man'], topn=1)"
   ]
  },
  {
   "cell_type": "code",
   "execution_count": 28,
   "metadata": {},
   "outputs": [
    {
     "data": {
      "text/plain": [
       "[('aunt', 0.836803138256073)]"
      ]
     },
     "execution_count": 28,
     "metadata": {},
     "output_type": "execute_result"
    }
   ],
   "source": [
    "model2.most_similar(positive=['woman', 'uncle'], negative=['man'], topn=1)"
   ]
  },
  {
   "cell_type": "code",
   "execution_count": 29,
   "metadata": {},
   "outputs": [
    {
     "data": {
      "text/plain": [
       "[('turkey', 0.81471186876297)]"
      ]
     },
     "execution_count": 29,
     "metadata": {},
     "output_type": "execute_result"
    }
   ],
   "source": [
    "model2.most_similar(positive=['ankara', 'germany'], negative=['berlin'], topn=1)"
   ]
  },
  {
   "cell_type": "code",
   "execution_count": 30,
   "metadata": {},
   "outputs": [
    {
     "data": {
      "text/plain": [
       "[('teacher', 0.7610152959823608)]"
      ]
     },
     "execution_count": 30,
     "metadata": {},
     "output_type": "execute_result"
    }
   ],
   "source": [
    "model2.most_similar(positive=['teach', 'doctor'], negative=['treat'], topn=1)"
   ]
  },
  {
   "cell_type": "code",
   "execution_count": 31,
   "metadata": {},
   "outputs": [
    {
     "data": {
      "text/plain": [
       "[('queen', 0.7698541283607483)]"
      ]
     },
     "execution_count": 31,
     "metadata": {},
     "output_type": "execute_result"
    }
   ],
   "source": [
    "model2.most_similar(positive=['woman', 'king'], negative=['man'], topn=1)"
   ]
  },
  {
   "cell_type": "code",
   "execution_count": 32,
   "metadata": {},
   "outputs": [
    {
     "data": {
      "text/plain": [
       "[('lover', 0.7032662630081177)]"
      ]
     },
     "execution_count": 32,
     "metadata": {},
     "output_type": "execute_result"
    }
   ],
   "source": [
    "model2.most_similar(positive=['love', 'jealous'], negative=['hate'], topn=1)"
   ]
  }
 ],
 "metadata": {
  "kernelspec": {
   "display_name": "Python 3 (ipykernel)",
   "language": "python",
   "name": "python3"
  },
  "language_info": {
   "codemirror_mode": {
    "name": "ipython",
    "version": 3
   },
   "file_extension": ".py",
   "mimetype": "text/x-python",
   "name": "python",
   "nbconvert_exporter": "python",
   "pygments_lexer": "ipython3",
   "version": "3.9.12"
  }
 },
 "nbformat": 4,
 "nbformat_minor": 2
}
